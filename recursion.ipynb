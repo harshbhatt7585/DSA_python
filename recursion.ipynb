{
 "cells": [
  {
   "cell_type": "code",
   "execution_count": 1,
   "metadata": {},
   "outputs": [],
   "source": [
    "# Fibonacci\n",
    "# F(0) = 0\n",
    "# F(1) = 1\n",
    "# n > 1: F(n) = F(n-1) + F(n-2)"
   ]
  },
  {
   "cell_type": "code",
   "execution_count": 2,
   "metadata": {},
   "outputs": [
    {
     "name": "stdout",
     "output_type": "stream",
     "text": [
      "55\n"
     ]
    }
   ],
   "source": [
    "# Time: O(2^n), Space: O(n)\n",
    "\n",
    "def F(n):\n",
    "    if n==0:\n",
    "        return 0\n",
    "    elif n == 1:\n",
    "        return 1\n",
    "    else:\n",
    "        return F(n-1) + F(n-2)\n",
    "    \n",
    "print(F(10))"
   ]
  },
  {
   "cell_type": "code",
   "execution_count": 5,
   "metadata": {},
   "outputs": [],
   "source": [
    "# LinkedList\n",
    "\n",
    "class SinglyNode:\n",
    "    def __init__(self, val, next=None):\n",
    "        self.val = val\n",
    "        self.next = next\n",
    "    \n",
    "    def __str__(self):\n",
    "        return str(self.val)\n",
    "\n",
    "\n",
    "Head = SinglyNode(1)\n",
    "A = SinglyNode(2)\n",
    "B = SinglyNode(5)\n",
    "C = SinglyNode(8)\n",
    "\n",
    "Head.next = A\n",
    "A.next = B\n",
    "B.next = C"
   ]
  },
  {
   "cell_type": "code",
   "execution_count": 6,
   "metadata": {},
   "outputs": [
    {
     "name": "stdout",
     "output_type": "stream",
     "text": [
      "8\n",
      "5\n",
      "2\n",
      "1\n"
     ]
    }
   ],
   "source": [
    "# use recursion to reverse the linkedlist\n",
    "def reverse(node):\n",
    "    if not node:\n",
    "        return\n",
    "    \n",
    "    reverse(node.next)\n",
    "    print(node)\n",
    "\n",
    "reverse(Head)"
   ]
  },
  {
   "cell_type": "markdown",
   "metadata": {},
   "source": [
    "## Questions"
   ]
  },
  {
   "cell_type": "markdown",
   "metadata": {},
   "source": [
    "Factorial of a Number\n",
    "\n",
    "Write a recursive function to calculate the factorial of a given number n.\n",
    "\n",
    "Example:\n",
    "\n",
    "Input: n = 5\n",
    "\n",
    "Output: 120\n",
    "\n",
    "(Explanation: 5! = 5 × 4 × 3 × 2 × 1)"
   ]
  },
  {
   "cell_type": "code",
   "execution_count": 6,
   "metadata": {},
   "outputs": [
    {
     "data": {
      "text/plain": [
       "120"
      ]
     },
     "execution_count": 6,
     "metadata": {},
     "output_type": "execute_result"
    }
   ],
   "source": [
    "def cal_factorial(num, result=1):\n",
    "    result = num * result\n",
    "    if (num-1) == 1:\n",
    "        return result\n",
    "    return cal_factorial(num-1, result)\n",
    "\n",
    "cal_factorial(5)"
   ]
  },
  {
   "cell_type": "markdown",
   "metadata": {},
   "source": [
    "Sum of Digits\n",
    "\n",
    "Write a recursive function to find the sum of the digits of a given number n.\n",
    "\n",
    "Example:\n",
    "\n",
    "Input: n = 1234\n",
    "\n",
    "Output: 10\n",
    "\n",
    "(Explanation: 1 + 2 + 3 + 4 = 10)"
   ]
  },
  {
   "cell_type": "code",
   "execution_count": 10,
   "metadata": {},
   "outputs": [
    {
     "data": {
      "text/plain": [
       "15"
      ]
     },
     "execution_count": 10,
     "metadata": {},
     "output_type": "execute_result"
    }
   ],
   "source": [
    "def sum_of_digits(num, counter=0, sum=0):\n",
    "    digits = str(num)\n",
    "    sum += int(digits[counter])\n",
    "    if counter == (len(digits)-1):\n",
    "        return sum\n",
    "    return sum_of_digits(num, counter+1, sum)\n",
    "\n",
    "sum_of_digits(12345)"
   ]
  },
  {
   "cell_type": "markdown",
   "metadata": {},
   "source": [
    "Generate All Subsequences of a String\n",
    "\n",
    "Write a recursive function to generate all subsequences (power set) of a given string.\n",
    "\n",
    "Example:\n",
    "\n",
    "Input: \"abc\"\n",
    "\n",
    "Output: [\"\", \"a\", \"b\", \"c\", \"ab\", \"ac\", \"bc\", \"abc\"]"
   ]
  },
  {
   "cell_type": "code",
   "execution_count": 39,
   "metadata": {},
   "outputs": [
    {
     "name": "stdout",
     "output_type": "stream",
     "text": [
      "['']\n",
      "c\n",
      "['', 'c']\n",
      "b\n",
      "bc\n",
      "['', 'c', 'b', 'bc']\n",
      "a\n",
      "ac\n",
      "ab\n",
      "abc\n"
     ]
    },
    {
     "data": {
      "text/plain": [
       "['', 'c', 'b', 'bc', 'a', 'ac', 'ab', 'abc']"
      ]
     },
     "execution_count": 39,
     "metadata": {},
     "output_type": "execute_result"
    }
   ],
   "source": [
    "def generate_subsequence(string):\n",
    "    if not string:\n",
    "        return [\"\"]\n",
    "    \n",
    "    smaller_subsequence = generate_subsequence(string[1:])\n",
    "    print(smaller_subsequence)\n",
    "    result = []\n",
    "\n",
    "    result.extend(smaller_subsequence)\n",
    "    [print(string[0]+sub) for sub in smaller_subsequence]\n",
    "    result.extend([string[0] + sub for sub in smaller_subsequence])\n",
    "    return result\n",
    "\n",
    "generate_subsequence('abc')"
   ]
  },
  {
   "cell_type": "code",
   "execution_count": null,
   "metadata": {},
   "outputs": [],
   "source": []
  }
 ],
 "metadata": {
  "kernelspec": {
   "display_name": "base",
   "language": "python",
   "name": "python3"
  },
  "language_info": {
   "codemirror_mode": {
    "name": "ipython",
    "version": 3
   },
   "file_extension": ".py",
   "mimetype": "text/x-python",
   "name": "python",
   "nbconvert_exporter": "python",
   "pygments_lexer": "ipython3",
   "version": "3.11.8"
  }
 },
 "nbformat": 4,
 "nbformat_minor": 2
}
