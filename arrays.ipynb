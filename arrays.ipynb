{
 "cells": [
  {
   "cell_type": "code",
   "execution_count": 5,
   "metadata": {},
   "outputs": [],
   "source": [
    "A = [1,2,3,54,3,5]"
   ]
  },
  {
   "cell_type": "code",
   "execution_count": 6,
   "metadata": {},
   "outputs": [],
   "source": [
    "# append - insert element at end of array -- On Average: O(1)\n",
    "A.append(16)"
   ]
  },
  {
   "cell_type": "code",
   "execution_count": 7,
   "metadata": {},
   "outputs": [
    {
     "data": {
      "text/plain": [
       "16"
      ]
     },
     "execution_count": 7,
     "metadata": {},
     "output_type": "execute_result"
    }
   ],
   "source": [
    "# pop -- deleting element at end of array -- O(1)\n",
    "# also retrurns the deleted element\n",
    "A.pop()"
   ]
  },
  {
   "cell_type": "code",
   "execution_count": 8,
   "metadata": {},
   "outputs": [],
   "source": [
    "# insert (not at end of array) -- O(n)\n",
    "A.insert(1,7) # insert 7 at index 1 "
   ]
  },
  {
   "cell_type": "code",
   "execution_count": 9,
   "metadata": {},
   "outputs": [
    {
     "data": {
      "text/plain": [
       "[1, 7, 2, 3, 54, 3, 5]"
      ]
     },
     "execution_count": 9,
     "metadata": {},
     "output_type": "execute_result"
    }
   ],
   "source": [
    "A"
   ]
  },
  {
   "cell_type": "code",
   "execution_count": 10,
   "metadata": {},
   "outputs": [],
   "source": [
    "# Modify an element -- O(1)\n",
    "A[4] = 13"
   ]
  },
  {
   "cell_type": "code",
   "execution_count": 11,
   "metadata": {},
   "outputs": [
    {
     "data": {
      "text/plain": [
       "[1, 7, 2, 3, 13, 3, 5]"
      ]
     },
     "execution_count": 11,
     "metadata": {},
     "output_type": "execute_result"
    }
   ],
   "source": [
    "A"
   ]
  },
  {
   "cell_type": "code",
   "execution_count": 12,
   "metadata": {},
   "outputs": [
    {
     "name": "stdout",
     "output_type": "stream",
     "text": [
      "2\n"
     ]
    }
   ],
   "source": [
    "# Accessing element given index i -- O(1)\n",
    "print(A[2])"
   ]
  },
  {
   "cell_type": "code",
   "execution_count": 13,
   "metadata": {},
   "outputs": [
    {
     "name": "stdout",
     "output_type": "stream",
     "text": [
      "True\n"
     ]
    }
   ],
   "source": [
    "# checking if array has element -- O(1)\n",
    "if 7 in A:\n",
    "    print(True)"
   ]
  },
  {
   "cell_type": "code",
   "execution_count": 14,
   "metadata": {},
   "outputs": [
    {
     "name": "stdout",
     "output_type": "stream",
     "text": [
      "7\n"
     ]
    }
   ],
   "source": [
    "# checking length -- O(1)\n",
    "print(len(A))"
   ]
  },
  {
   "cell_type": "code",
   "execution_count": 17,
   "metadata": {},
   "outputs": [
    {
     "data": {
      "text/plain": [
       "'helloz'"
      ]
     },
     "execution_count": 17,
     "metadata": {},
     "output_type": "execute_result"
    }
   ],
   "source": [
    "# Strings\n",
    "\n",
    "# Append to end of string -- O(n)\n",
    "s = 'hello'\n",
    "b = s + 'z'\n",
    "b"
   ]
  },
  {
   "cell_type": "code",
   "execution_count": 18,
   "metadata": {},
   "outputs": [],
   "source": [
    "# check if something is in string -- O(n)\n",
    "if 'f' in s:\n",
    "    print(True)"
   ]
  },
  {
   "cell_type": "code",
   "execution_count": 19,
   "metadata": {},
   "outputs": [
    {
     "name": "stdout",
     "output_type": "stream",
     "text": [
      "l\n"
     ]
    }
   ],
   "source": [
    "# Access positions -- O(1)\n",
    "print(s[2])"
   ]
  },
  {
   "cell_type": "code",
   "execution_count": 20,
   "metadata": {},
   "outputs": [
    {
     "name": "stdout",
     "output_type": "stream",
     "text": [
      "5\n"
     ]
    }
   ],
   "source": [
    "# check length of string -- O(1)\n",
    "print(len(s))"
   ]
  },
  {
   "cell_type": "markdown",
   "metadata": {},
   "source": [
    "## Questions"
   ]
  },
  {
   "cell_type": "markdown",
   "metadata": {},
   "source": [
    "Find the Maximum Element\n",
    "\n",
    "Write a Python function to find and return the maximum element in an array.\n",
    "\n",
    "Example:\n",
    "\n",
    "Input: [2, 8, 5, 3, 7]\n",
    "\n",
    "Output: 8\n"
   ]
  },
  {
   "cell_type": "code",
   "execution_count": 23,
   "metadata": {},
   "outputs": [
    {
     "name": "stdout",
     "output_type": "stream",
     "text": [
      "8\n"
     ]
    }
   ],
   "source": [
    "A = [2,8,5,3,7]\n",
    "max = 0\n",
    "for el in A:\n",
    "    if el > max:\n",
    "        max = el\n",
    "\n",
    "print(max)"
   ]
  },
  {
   "cell_type": "markdown",
   "metadata": {},
   "source": [
    "Rotate Array\n",
    "\n",
    "Write a Python function to rotate an array to the right by k steps.\n",
    "\n",
    "Example:\n",
    "\n",
    "Input: nums = [1, 2, 3, 4, 5, 6, 7], k = 3\n",
    "\n",
    "Output: [5, 6, 7, 1, 2, 3, 4]"
   ]
  },
  {
   "cell_type": "code",
   "execution_count": 27,
   "metadata": {},
   "outputs": [
    {
     "name": "stdout",
     "output_type": "stream",
     "text": [
      "[5, 6, 7, 1, 2, 3, 4]\n"
     ]
    }
   ],
   "source": [
    "A = [1, 2, 3, 4, 5, 6, 7]\n",
    "k = 3\n",
    "for i, el in enumerate(A):  # O(n)\n",
    "    if k <= i:\n",
    "        swap_el = A.pop(0)  # O(1)\n",
    "        A.append(swap_el)   # O(1)\n",
    "\n",
    "print(A)"
   ]
  },
  {
   "cell_type": "markdown",
   "metadata": {},
   "source": [
    "Find All Duplicates\n",
    "\n",
    "Given an array of integers, return all elements that appear more than once.\n",
    "\n",
    "Example:\n",
    "\n",
    "Input: [4, 3, 2, 7, 8, 2, 3, 1]\n",
    "\n",
    "Output: [2, 3]"
   ]
  },
  {
   "cell_type": "code",
   "execution_count": 35,
   "metadata": {},
   "outputs": [
    {
     "name": "stdout",
     "output_type": "stream",
     "text": [
      "[3, 2, 7, 5]\n"
     ]
    }
   ],
   "source": [
    "# O(n^2) solution\n",
    "A = [4, 3, 2, 7, 9, 5, 8, 2, 3, 1, 5,7]\n",
    "B = []\n",
    "for idx, el1 in enumerate(A[:-1]):\n",
    "    for el2 in A[idx+1:]:\n",
    "        if el1 == el2:\n",
    "            B.append(el1)\n",
    "\n",
    "print(B)"
   ]
  },
  {
   "cell_type": "code",
   "execution_count": 36,
   "metadata": {},
   "outputs": [
    {
     "name": "stdout",
     "output_type": "stream",
     "text": [
      "[2, 3, 5, 7]\n"
     ]
    }
   ],
   "source": [
    "# O(n) solution\n",
    "A = [4, 3, 2, 7, 9, 5, 8, 2, 3, 1, 5,7]\n",
    "seen = set()\n",
    "dublicates = []\n",
    "\n",
    "for num in A:\n",
    "    if num in seen:\n",
    "        dublicates.append(num)\n",
    "    else:\n",
    "        seen.add(num)\n",
    "\n",
    "print(dublicates)"
   ]
  },
  {
   "cell_type": "markdown",
   "metadata": {},
   "source": [
    "Subarray Sum Equals K\n",
    "\n",
    "Given an array of integers and an integer k, find the total number of \n",
    "\n",
    "continuous subarrays whose sum equals to k.\n",
    "\n",
    "Example:\n",
    "\n",
    "Input: nums = [1, 1, 1], k = 2\n",
    "\n",
    "Output: 2"
   ]
  },
  {
   "cell_type": "code",
   "execution_count": 42,
   "metadata": {},
   "outputs": [
    {
     "name": "stdout",
     "output_type": "stream",
     "text": [
      "5\n"
     ]
    }
   ],
   "source": [
    "A = [1,1,1,1,1,1]\n",
    "k = 2\n",
    "count = 0\n",
    "for idx, el1 in enumerate(A[:-1]):\n",
    "    sum = el1 + 0\n",
    "    for el2 in A[idx+1:]:\n",
    "        sum += el2\n",
    "        if sum == k:\n",
    "            count += 1\n",
    "\n",
    "print(count)"
   ]
  },
  {
   "cell_type": "code",
   "execution_count": 47,
   "metadata": {},
   "outputs": [
    {
     "name": "stdout",
     "output_type": "stream",
     "text": [
      "-1\n",
      "0\n",
      "4\n",
      "6\n",
      "{0: 1, 3: 1, 4: 1, 8: 1, 10: 1}\n",
      "2\n"
     ]
    }
   ],
   "source": [
    "A = [3,1,4,2]\n",
    "k = 4\n",
    "\n",
    "prefix_sum = 0\n",
    "count = 0\n",
    "sum_freq = {0: 1}\n",
    "\n",
    "for num in A:\n",
    "    prefix_sum += num\n",
    "    print(prefix_sum - k)\n",
    "\n",
    "    if(prefix_sum - k) in sum_freq:\n",
    "        count += sum_freq[prefix_sum - k]\n",
    "    \n",
    "    sum_freq[prefix_sum]  = sum_freq.get(prefix_sum, 0) + 1\n",
    "print(sum_freq)\n",
    "print(count)"
   ]
  },
  {
   "cell_type": "markdown",
   "metadata": {},
   "source": [
    "Merge Overlapping Intervals\n",
    "\n",
    "Given an array of intervals where intervals[i] = [start_i, end_i], merge all overlapping intervals and return the result as a list of intervals.\n",
    "\n",
    "Example:\n",
    "\n",
    "Input: [[1, 3], [2, 6], [8, 10], [15, 18]]\n",
    "\n",
    "Output: [[1, 6], [8, 10], [15, 18]]"
   ]
  },
  {
   "cell_type": "code",
   "execution_count": 79,
   "metadata": {},
   "outputs": [
    {
     "data": {
      "text/plain": [
       "[[1, 6], [8, 10], [15, 18]]"
      ]
     },
     "execution_count": 79,
     "metadata": {},
     "output_type": "execute_result"
    }
   ],
   "source": [
    "A = [[1, 3], [2, 6], [8, 10], [15, 18]]\n",
    "\n",
    "A.sort(key=lambda x: x[0])\n",
    "B = []\n",
    "current = A[0]\n",
    "for interval in A[1:]:\n",
    "    if current[1] >= interval[0]:\n",
    "        if current[1] < interval[1]:\n",
    "            current[1] = interval[1]\n",
    "    else:\n",
    "        B.append(current)\n",
    "        current = interval\n",
    "\n",
    "B.append(current)\n",
    "B"
   ]
  },
  {
   "cell_type": "code",
   "execution_count": null,
   "metadata": {},
   "outputs": [],
   "source": []
  }
 ],
 "metadata": {
  "kernelspec": {
   "display_name": "base",
   "language": "python",
   "name": "python3"
  },
  "language_info": {
   "codemirror_mode": {
    "name": "ipython",
    "version": 3
   },
   "file_extension": ".py",
   "mimetype": "text/x-python",
   "name": "python",
   "nbconvert_exporter": "python",
   "pygments_lexer": "ipython3",
   "version": "3.11.8"
  }
 },
 "nbformat": 4,
 "nbformat_minor": 2
}
