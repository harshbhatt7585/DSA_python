{
 "cells": [
  {
   "cell_type": "markdown",
   "metadata": {},
   "source": [
    "### Singly Linked Lists"
   ]
  },
  {
   "cell_type": "code",
   "execution_count": 1,
   "metadata": {},
   "outputs": [],
   "source": [
    "\n",
    "\n",
    "class SinglyNode:\n",
    "    def __init__(self, val, next=None):\n",
    "        self.val = val\n",
    "        self.next = next\n",
    "    def __str__(self):\n",
    "        return str(self.val)"
   ]
  },
  {
   "cell_type": "code",
   "execution_count": 2,
   "metadata": {},
   "outputs": [],
   "source": [
    "Head = SinglyNode(4)\n",
    "A = SinglyNode(2)\n",
    "B = SinglyNode(5)\n",
    "C = SinglyNode(8)\n",
    "\n",
    "Head.next = A\n",
    "A.next = B\n",
    "B.next = C"
   ]
  },
  {
   "cell_type": "code",
   "execution_count": 6,
   "metadata": {},
   "outputs": [
    {
     "name": "stdout",
     "output_type": "stream",
     "text": [
      "4\n",
      "2\n"
     ]
    }
   ],
   "source": [
    "print(Head.val)\n",
    "print(Head.next)"
   ]
  },
  {
   "cell_type": "code",
   "execution_count": 7,
   "metadata": {},
   "outputs": [
    {
     "name": "stdout",
     "output_type": "stream",
     "text": [
      "4\n",
      "2\n",
      "5\n",
      "8\n"
     ]
    }
   ],
   "source": [
    "# Traverse list -- O(n)\n",
    "curr = Head\n",
    "\n",
    "while curr:\n",
    "    print(curr)\n",
    "    curr = curr.next"
   ]
  },
  {
   "cell_type": "code",
   "execution_count": 8,
   "metadata": {},
   "outputs": [
    {
     "name": "stdout",
     "output_type": "stream",
     "text": [
      "4 --> 2 --> 5 --> 8\n"
     ]
    }
   ],
   "source": [
    "# Display linked list -- O(n)\n",
    "def display(head):\n",
    "    curr = head\n",
    "    elements = []\n",
    "    while curr:\n",
    "        elements.append(str(curr.val))\n",
    "        curr = curr.next\n",
    "    print(' --> '.join(elements))\n",
    "\n",
    "display(Head)"
   ]
  },
  {
   "cell_type": "code",
   "execution_count": 11,
   "metadata": {},
   "outputs": [
    {
     "data": {
      "text/plain": [
       "False"
      ]
     },
     "execution_count": 11,
     "metadata": {},
     "output_type": "execute_result"
    }
   ],
   "source": [
    "# Search for the node value -- O(n)\n",
    "def search(head, val):\n",
    "    curr = head\n",
    "    while curr:\n",
    "        if val == curr.val:\n",
    "            return True\n",
    "        curr = curr.next\n",
    "    return False\n",
    "\n",
    "search(Head, 7)"
   ]
  },
  {
   "cell_type": "markdown",
   "metadata": {},
   "source": [
    "### Doubly Linked Lists"
   ]
  },
  {
   "cell_type": "code",
   "execution_count": 12,
   "metadata": {},
   "outputs": [],
   "source": [
    "class DoublyNode:\n",
    "    def __init__(self, val, next=None, prev=None):\n",
    "        self.val = val\n",
    "        self.next = next\n",
    "        self.prev = prev\n",
    "    def __str__(self):\n",
    "        return str(self.val)"
   ]
  },
  {
   "cell_type": "code",
   "execution_count": 13,
   "metadata": {},
   "outputs": [],
   "source": [
    "Head = DoublyNode(3)\n",
    "A = DoublyNode(5)\n",
    "B = DoublyNode(9)\n",
    "C = DoublyNode(4)"
   ]
  },
  {
   "cell_type": "code",
   "execution_count": 14,
   "metadata": {},
   "outputs": [],
   "source": [
    "Head.next = A\n",
    "A.next, A.prev = B, Head\n",
    "B.next, B.prev = C, A\n",
    "C.prev = B"
   ]
  },
  {
   "cell_type": "code",
   "execution_count": 16,
   "metadata": {},
   "outputs": [
    {
     "name": "stdout",
     "output_type": "stream",
     "text": [
      "3 --> 5 --> 9 --> 4\n"
     ]
    }
   ],
   "source": [
    "display(Head)"
   ]
  },
  {
   "cell_type": "code",
   "execution_count": 17,
   "metadata": {},
   "outputs": [],
   "source": [
    "# insert at the beginning -- O(1)\n",
    "def insert_at_beginning(head, tail, val):\n",
    "    new_node = DoublyNode(val, next=head)\n",
    "    head.prev = new_node\n",
    "    return new_node, tail\n",
    "\n",
    "Head, tail = insert_at_beginning(Head, C, 15)"
   ]
  },
  {
   "cell_type": "code",
   "execution_count": 20,
   "metadata": {},
   "outputs": [],
   "source": [
    "# insert at the end -- O(1)\n",
    "def insert_at_end(head, tail, val):\n",
    "    new_node = DoublyNode(val, prev=tail)\n",
    "    tail.next = new_node\n",
    "    return head, new_node\n",
    "\n",
    "Head, tail = insert_at_end(Head, tail, 18)"
   ]
  },
  {
   "cell_type": "code",
   "execution_count": 24,
   "metadata": {},
   "outputs": [
    {
     "name": "stdout",
     "output_type": "stream",
     "text": [
      "15 --> 3 --> 5 --> 9 --> 4 --> 18\n"
     ]
    }
   ],
   "source": [
    "display(Head)"
   ]
  },
  {
   "cell_type": "markdown",
   "metadata": {},
   "source": [
    "## Questions"
   ]
  },
  {
   "cell_type": "markdown",
   "metadata": {},
   "source": [
    "Print Linked List\n",
    "\n",
    "Write a function to traverse and print all elements of a linked list."
   ]
  },
  {
   "cell_type": "code",
   "execution_count": 48,
   "metadata": {},
   "outputs": [
    {
     "name": "stdout",
     "output_type": "stream",
     "text": [
      "5 --> 10 --> 18\n"
     ]
    }
   ],
   "source": [
    "Head = SinglyNode(5)\n",
    "A = SinglyNode(10)\n",
    "B = SinglyNode(18)\n",
    "Head.next = A\n",
    "A.next = B\n",
    "\n",
    "display(Head)"
   ]
  },
  {
   "cell_type": "markdown",
   "metadata": {},
   "source": [
    "Reverse a Linked List\n",
    "\n",
    "Write a function to reverse a linked list and return the new head.\n",
    "\n",
    "Example:\n",
    "\n",
    "Input: 1 -> 2 -> 3 -> 4\n",
    "\n",
    "Output: 4 -> 3 -> 2 -> 1"
   ]
  },
  {
   "cell_type": "code",
   "execution_count": 28,
   "metadata": {},
   "outputs": [
    {
     "data": {
      "text/plain": [
       "[18, 10, 5]"
      ]
     },
     "execution_count": 28,
     "metadata": {},
     "output_type": "execute_result"
    }
   ],
   "source": [
    "def reverse_linkedlist(head):\n",
    "    arr = []\n",
    "    curr = head\n",
    "    while curr:\n",
    "        arr.insert(0, curr.val)\n",
    "        curr = curr.next\n",
    "    return arr\n",
    "\n",
    "reverse_linkedlist(Head)"
   ]
  },
  {
   "cell_type": "code",
   "execution_count": 67,
   "metadata": {},
   "outputs": [],
   "source": [
    "def reverse_linkedlist(head):\n",
    "    curr = head\n",
    "    prev = None\n",
    "    while curr:\n",
    "        next_node = curr.next\n",
    "        curr.next = prev\n",
    "        prev = curr\n",
    "        curr = next_node\n",
    "    return prev\n"
   ]
  },
  {
   "cell_type": "code",
   "execution_count": 73,
   "metadata": {},
   "outputs": [
    {
     "name": "stdout",
     "output_type": "stream",
     "text": [
      "18 --> 10 --> 5\n"
     ]
    }
   ],
   "source": [
    "Head = SinglyNode(5)\n",
    "A = SinglyNode(10)\n",
    "B = SinglyNode(18)\n",
    "Head.next = A\n",
    "A.next = B\n",
    "\n",
    "display(reverse_linkedlist(Head))"
   ]
  },
  {
   "cell_type": "markdown",
   "metadata": {},
   "source": [
    "Detect a Cycle in a Linked List\n",
    "\n",
    "Determine if a linked list has a cycle. If a cycle exists, return True; otherwise, return False.\n",
    "\n",
    "Example:\n",
    "\n",
    "Input: 1 -> 2 -> 3 -> 4 -> 2 (cycle)\n",
    "\n",
    "Output: True\n",
    "\n"
   ]
  },
  {
   "cell_type": "code",
   "execution_count": 81,
   "metadata": {},
   "outputs": [
    {
     "data": {
      "text/plain": [
       "True"
      ]
     },
     "execution_count": 81,
     "metadata": {},
     "output_type": "execute_result"
    }
   ],
   "source": [
    "Head = SinglyNode(1)\n",
    "A = SinglyNode(2)\n",
    "B = SinglyNode(3)\n",
    "C = SinglyNode(4)\n",
    "Head.next = A\n",
    "A.next = B\n",
    "B.next = C\n",
    "C.next = A\n",
    "\n",
    "## Space complexity -- O(1)\n",
    "## Time complexity -- O(n)\n",
    "def detech_cycle(head):\n",
    "    slow, fast = head, head \n",
    "    while fast and fast.next:\n",
    "        slow = slow.next\n",
    "        fast = fast.next.next\n",
    "\n",
    "        if slow == fast:\n",
    "            return True\n",
    "    return False\n",
    "\n",
    "detech_cycle(Head)"
   ]
  },
  {
   "cell_type": "markdown",
   "metadata": {},
   "source": [
    "Merge Two Sorted Linked Lists\n",
    "\n",
    "Given two sorted linked lists, merge them into a single sorted linked list.\n",
    "\n",
    "Example:\n",
    "\n",
    "Input:\n",
    "\n",
    "List 1: 1 -> 3 -> 5\n",
    "\n",
    "List 2: 2 -> 4 -> 6\n",
    "\n",
    "Output: 1 -> 2 -> 3 -> 4 -> 5 -> 6"
   ]
  },
  {
   "cell_type": "code",
   "execution_count": 144,
   "metadata": {},
   "outputs": [
    {
     "name": "stdout",
     "output_type": "stream",
     "text": [
      "1 --> 2 --> 3 --> 4 --> 5 --> 6\n"
     ]
    }
   ],
   "source": [
    "Head1 = SinglyNode(1)\n",
    "Head1.next = SinglyNode(3)\n",
    "Head1.next.next = SinglyNode(5)\n",
    "\n",
    "Head2 = SinglyNode(2)\n",
    "Head2.next = SinglyNode(4)\n",
    "Head2.next.next = SinglyNode(6)\n",
    "\n",
    "def merge_linkedlist(l1, l2):\n",
    "    dummy = SinglyNode(0)\n",
    "    curr = dummy\n",
    "\n",
    "    while l1 and l2:\n",
    "        if l1.val < l2.val:\n",
    "            curr.next = l1\n",
    "            l1 = l1.next\n",
    "        else:\n",
    "            curr.next = l2\n",
    "            l2 = l2.next\n",
    "\n",
    "        curr = curr.next\n",
    "    \n",
    "    if l1:\n",
    "        curr.next = l1\n",
    "    if l2:\n",
    "        curr.next = l2\n",
    "    \n",
    "    return dummy.next\n",
    "\n",
    "display(merge_linkedlist(Head1, Head2))\n",
    "            "
   ]
  },
  {
   "cell_type": "markdown",
   "metadata": {},
   "source": [
    "Find the Intersection Point of Two Linked Lists\n",
    "\n",
    "Write a function to find the node where two linked lists intersect. Return None if they do not \n",
    "intersect.\n",
    "\n",
    "Example:\n",
    "\n",
    "Input:\n",
    "\n",
    "List A: 1 -> 2 -> 3 -> 4 -> 5\n",
    "\n",
    "List B: 9 -> 4 -> 5\n",
    "\n",
    "Output: 4"
   ]
  },
  {
   "cell_type": "code",
   "execution_count": 165,
   "metadata": {},
   "outputs": [
    {
     "data": {
      "text/plain": [
       "4"
      ]
     },
     "execution_count": 165,
     "metadata": {},
     "output_type": "execute_result"
    }
   ],
   "source": [
    "Head1 = SinglyNode(1)\n",
    "Head1.next = SinglyNode(2)\n",
    "Head1.next.next = SinglyNode(3)\n",
    "Head1.next.next.next = SinglyNode(4)\n",
    "Head1.next.next.next.next = SinglyNode(5)\n",
    "\n",
    "Head2 = SinglyNode(9)\n",
    "Head2.next = Head1.next.next.next\n",
    "\n",
    "def find_intersection(l1, l2):\n",
    "    curr1, curr2 = l1, l2\n",
    "    \n",
    "    while curr1 != curr2:\n",
    "        curr1 = curr1.next if curr1 else l2 \n",
    "        curr2 = curr2.next if curr2 else l1\n",
    "        \n",
    "    return curr1\n",
    "\n",
    "\n",
    "find_intersection(Head1, Head2).val\n"
   ]
  },
  {
   "cell_type": "code",
   "execution_count": null,
   "metadata": {},
   "outputs": [],
   "source": []
  }
 ],
 "metadata": {
  "kernelspec": {
   "display_name": "base",
   "language": "python",
   "name": "python3"
  },
  "language_info": {
   "codemirror_mode": {
    "name": "ipython",
    "version": 3
   },
   "file_extension": ".py",
   "mimetype": "text/x-python",
   "name": "python",
   "nbconvert_exporter": "python",
   "pygments_lexer": "ipython3",
   "version": "3.11.8"
  }
 },
 "nbformat": 4,
 "nbformat_minor": 2
}
